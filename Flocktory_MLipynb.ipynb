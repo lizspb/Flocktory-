{
  "nbformat": 4,
  "nbformat_minor": 0,
  "metadata": {
    "colab": {
      "provenance": []
    },
    "kernelspec": {
      "name": "python3",
      "display_name": "Python 3"
    },
    "language_info": {
      "name": "python"
    }
  },
  "cells": [
    {
      "cell_type": "code",
      "execution_count": null,
      "metadata": {
        "id": "saLEKhbbynUa"
      },
      "outputs": [],
      "source": [
        "import pandas as pd"
      ]
    },
    {
      "cell_type": "code",
      "source": [
        "from google.colab import drive\n",
        "drive.mount('/content/drive')"
      ],
      "metadata": {
        "colab": {
          "base_uri": "https://localhost:8080/"
        },
        "id": "lFghn0xay2FL",
        "outputId": "178a0dff-c85f-47aa-d62b-ec3fd09e03bd"
      },
      "execution_count": null,
      "outputs": [
        {
          "output_type": "stream",
          "name": "stdout",
          "text": [
            "Mounted at /content/drive\n"
          ]
        }
      ]
    },
    {
      "cell_type": "code",
      "source": [
        "data_train = pd.read_csv('/content/drive/MyDrive/Hackaton/df_total_train.csv', sep=',', index_col=0)"
      ],
      "metadata": {
        "id": "8hYCtlFOy2IG"
      },
      "execution_count": null,
      "outputs": []
    },
    {
      "cell_type": "code",
      "source": [
        "data_val = pd.read_csv('/content/drive/MyDrive/Hackaton/df_total_val.csv', sep=',', index_col=0)"
      ],
      "metadata": {
        "id": "0b0uC7xuzaqz"
      },
      "execution_count": null,
      "outputs": []
    },
    {
      "cell_type": "code",
      "source": [
        "data_test = pd.read_csv('/content/drive/MyDrive/Hackaton/df_total_test.csv', sep=',', index_col=0)"
      ],
      "metadata": {
        "id": "pqBz7qrXzbgz"
      },
      "execution_count": null,
      "outputs": []
    },
    {
      "cell_type": "code",
      "source": [
        "data_train_1 = pd.read_csv('/content/drive/MyDrive/Hackaton/train.csv', sep=',', index_col=0)"
      ],
      "metadata": {
        "id": "7BqnMMa4zlh2"
      },
      "execution_count": null,
      "outputs": []
    },
    {
      "cell_type": "code",
      "source": [
        "data_val_1 = pd.read_csv('/content/drive/MyDrive/Hackaton/val.csv', sep=',', index_col=0)"
      ],
      "metadata": {
        "id": "guzwDACgzlkf"
      },
      "execution_count": null,
      "outputs": []
    },
    {
      "cell_type": "code",
      "source": [
        "data_test_1 = pd.read_csv('/content/drive/MyDrive/Hackaton/test.csv', sep=',', index_col=0)"
      ],
      "metadata": {
        "id": "LfNc5gog0KtJ"
      },
      "execution_count": null,
      "outputs": []
    },
    {
      "cell_type": "code",
      "source": [
        "data_train['user-id'] = data_train.index\n",
        "data_train_1 = data_train_1.drop(['target'], axis=1)\n",
        "df_train = data_train.merge(data_train_1, how='left', on='user-id')\n",
        "df_train = df_train.drop(['user-id'], axis=1)"
      ],
      "metadata": {
        "id": "Lorjh97l6ojU"
      },
      "execution_count": null,
      "outputs": []
    },
    {
      "cell_type": "code",
      "source": [
        "data_val['user-id'] = data_val.index\n",
        "data_val_1 = data_val_1.drop(['target'], axis=1)\n",
        "df_val = data_val.merge(data_val_1, how='left', on='user-id')\n",
        "df_val = df_val.drop(['user-id'], axis=1)"
      ],
      "metadata": {
        "id": "Tja0-pYO3Q2y"
      },
      "execution_count": null,
      "outputs": []
    },
    {
      "cell_type": "code",
      "source": [
        "data_test['user-id'] = data_test.index\n",
        "df_test = data_test.merge(data_test_1, how='left', on='user-id')\n",
        "df_test = df_test.drop(['user-id'], axis=1)"
      ],
      "metadata": {
        "id": "nYoLTP_AJj_U"
      },
      "execution_count": null,
      "outputs": []
    },
    {
      "cell_type": "code",
      "source": [
        "df_test.to_csv('/content/drive/MyDrive/Hackaton/df_test.csv')"
      ],
      "metadata": {
        "id": "e9DehLY8KF_j"
      },
      "execution_count": null,
      "outputs": []
    },
    {
      "cell_type": "code",
      "source": [
        "df_val.info()\n",
        "\n"
      ],
      "metadata": {
        "colab": {
          "base_uri": "https://localhost:8080/"
        },
        "id": "tcwvmg7ftD5P",
        "outputId": "1be568a0-e7cd-44c5-8de8-5df6501e6938"
      },
      "execution_count": null,
      "outputs": [
        {
          "output_type": "stream",
          "name": "stdout",
          "text": [
            "<class 'pandas.core.frame.DataFrame'>\n",
            "Int64Index: 27447 entries, 0 to 27446\n",
            "Data columns (total 39 columns):\n",
            " #   Column                             Non-Null Count  Dtype  \n",
            "---  ------                             --------------  -----  \n",
            " 0   target                             27447 non-null  int64  \n",
            " 1   es_female                          27447 non-null  int64  \n",
            " 2   es_male                            27447 non-null  int64  \n",
            " 3   es_neutrale                        27447 non-null  int64  \n",
            " 4   last_visit_other                   27447 non-null  int64  \n",
            " 5   last_visit_electronics             27447 non-null  int64  \n",
            " 6   last_visit_hypermarket             27447 non-null  int64  \n",
            " 7   last_visit_bank                    27447 non-null  int64  \n",
            " 8   last_visit_entertainment_services  27447 non-null  int64  \n",
            " 9   last_visit_fashion                 27447 non-null  int64  \n",
            " 10  last_visit_media                   27447 non-null  int64  \n",
            " 11  last_visit_cosmetics               27447 non-null  int64  \n",
            " 12  last_visit_food                    27447 non-null  int64  \n",
            " 13  last_visit_education               27447 non-null  int64  \n",
            " 14  last_visit_furniture               27447 non-null  int64  \n",
            " 15  last_visit_health                  27447 non-null  int64  \n",
            " 16  last_visit_travel                  27447 non-null  int64  \n",
            " 17  last_visit_kids                    27447 non-null  int64  \n",
            " 18  last_visit_household_appliances    27447 non-null  int64  \n",
            " 19  last_visit_luxury                  27447 non-null  int64  \n",
            " 20  last_visit_pets                    27447 non-null  int64  \n",
            " 21  last_visit_shoes                   27447 non-null  int64  \n",
            " 22  last_visit_insurance               27447 non-null  int64  \n",
            " 23  last_visit_gifts                   27447 non-null  int64  \n",
            " 24  last_visit_sport                   27447 non-null  int64  \n",
            " 25  last_visit_dealoftheday            27447 non-null  int64  \n",
            " 26  last_visit_software                27447 non-null  int64  \n",
            " 27  visit_female_sites                 27447 non-null  int64  \n",
            " 28  visit_male_sites                   27447 non-null  int64  \n",
            " 29  visit_neutrale_sites               27447 non-null  int64  \n",
            " 30  mean_pages_count                   27045 non-null  float64\n",
            " 31  order_female                       27447 non-null  int64  \n",
            " 32  order_male                         27447 non-null  int64  \n",
            " 33  order_neutrale                     27447 non-null  int64  \n",
            " 34  site_item_p                        16825 non-null  float64\n",
            " 35  site_brand_p                       15058 non-null  float64\n",
            " 36  site_category_p                    16976 non-null  float64\n",
            " 37  brand_p                            15418 non-null  float64\n",
            " 38  site_p                             22191 non-null  float64\n",
            "dtypes: float64(6), int64(33)\n",
            "memory usage: 8.4 MB\n"
          ]
        }
      ]
    },
    {
      "cell_type": "markdown",
      "source": [
        "Обучение модели"
      ],
      "metadata": {
        "id": "YDafYv0p42dg"
      }
    },
    {
      "cell_type": "code",
      "source": [
        "df_val = df_val.dropna()"
      ],
      "metadata": {
        "id": "AeMquDlZ44_r"
      },
      "execution_count": null,
      "outputs": []
    },
    {
      "cell_type": "code",
      "source": [
        "df_train = df_train.dropna()"
      ],
      "metadata": {
        "id": "lRhx5anZ6Rr8"
      },
      "execution_count": null,
      "outputs": []
    },
    {
      "cell_type": "code",
      "source": [
        "import xgboost as xgb\n",
        "from sklearn.model_selection import train_test_split\n",
        "from sklearn.metrics import accuracy_score"
      ],
      "metadata": {
        "id": "CBUOfn7z47Ia"
      },
      "execution_count": null,
      "outputs": []
    },
    {
      "cell_type": "code",
      "source": [
        "X_train = df_train.drop('target', axis=1)\n",
        "y_train = df_train.target"
      ],
      "metadata": {
        "id": "YJz5KbTp49EX"
      },
      "execution_count": null,
      "outputs": []
    },
    {
      "cell_type": "code",
      "source": [
        "X_val = df_val.drop('target', axis=1)\n",
        "y_val = df_val.target"
      ],
      "metadata": {
        "id": "viG-0c636dcI"
      },
      "execution_count": null,
      "outputs": []
    },
    {
      "cell_type": "code",
      "source": [
        "xgb_model = xgb.XGBClassifier(\n",
        "    objective='binary:logistic'\n",
        "    , n_estimators=250\n",
        "    , learning_rate=0.10\n",
        "    , colsample_bytree=0.70\n",
        "    , max_depth=3\n",
        "    , n_jobs=4\n",
        ")"
      ],
      "metadata": {
        "id": "-kKgjb1G5FMV"
      },
      "execution_count": null,
      "outputs": []
    },
    {
      "cell_type": "code",
      "source": [
        "xgb_model.fit(\n",
        "    X_train, y_train\n",
        "    , early_stopping_rounds=5\n",
        "    , eval_set=[(X_test, y_test)]\n",
        "    , verbose=False\n",
        ")\n",
        "\n",
        "print('Training Done!')\n",
        "\n",
        "predictions = xgb_model.predict(X_val)\n",
        "\n",
        "print('Predictions Done!')"
      ],
      "metadata": {
        "colab": {
          "base_uri": "https://localhost:8080/"
        },
        "id": "WYczA61-5HqS",
        "outputId": "0d05c7ee-c98c-4f5d-987c-653b65ec6d7a"
      },
      "execution_count": null,
      "outputs": [
        {
          "output_type": "stream",
          "name": "stderr",
          "text": [
            "/usr/local/lib/python3.10/dist-packages/xgboost/sklearn.py:885: UserWarning: `early_stopping_rounds` in `fit` method is deprecated for better compatibility with scikit-learn, use `early_stopping_rounds` in constructor or`set_params` instead.\n",
            "  warnings.warn(\n"
          ]
        },
        {
          "output_type": "stream",
          "name": "stdout",
          "text": [
            "Training Done!\n",
            "Predictions Done!\n"
          ]
        }
      ]
    },
    {
      "cell_type": "code",
      "source": [
        "accuracy = accuracy_score(y_val, predictions)\n",
        "train_score = round(xgb_model.score(X_train, y_train) * 100, 2)\n",
        "valid_score = round(xgb_model.score(X_val, y_val) * 100, 2)\n",
        "\n",
        "print('Accuracy: ', round(accuracy * 100, 2), '%', sep='')"
      ],
      "metadata": {
        "colab": {
          "base_uri": "https://localhost:8080/"
        },
        "id": "oReKGv4c53QU",
        "outputId": "d5c40aed-40ab-4557-c609-43c3e5cd36ff"
      },
      "execution_count": null,
      "outputs": [
        {
          "output_type": "stream",
          "name": "stdout",
          "text": [
            "Accuracy: 80.55%\n"
          ]
        }
      ]
    },
    {
      "cell_type": "markdown",
      "source": [
        "predict"
      ],
      "metadata": {
        "id": "eOy4gaIQHn6W"
      }
    },
    {
      "cell_type": "code",
      "source": [
        "y_pred = xgb_model.predict(df_test)"
      ],
      "metadata": {
        "id": "kbP_ixHXHlex"
      },
      "execution_count": null,
      "outputs": []
    }
  ]
}